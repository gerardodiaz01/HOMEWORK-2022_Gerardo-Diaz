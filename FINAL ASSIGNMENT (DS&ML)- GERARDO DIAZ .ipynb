{
 "cells": [
  {
   "cell_type": "markdown",
   "id": "1f9bb823",
   "metadata": {},
   "source": [
    "# EXERCISE 1"
   ]
  },
  {
   "cell_type": "code",
   "execution_count": 1,
   "id": "b8a090f9",
   "metadata": {},
   "outputs": [],
   "source": [
    "import numpy as np\n",
    "import pandas as pd\n",
    "import matplotlib.pyplot as plt\n",
    "from sklearn.cluster import KMeans "
   ]
  },
  {
   "cell_type": "code",
   "execution_count": 2,
   "id": "88bb3f8c",
   "metadata": {},
   "outputs": [],
   "source": [
    "#NOTE 1: Data provided had errors since accumulative probability \"accumulates\", therefore it can only \n",
    "#      increase until it reaches 1. The orignal data had accumulated probabilites that were, for example,\n",
    "#      of 0.9955307 and then 0.98994413 and then 0.99441341 again. This is not possible, therefore, before\n",
    "#      processing the data, these alien values were eliminated."
   ]
  },
  {
   "cell_type": "code",
   "execution_count": 3,
   "id": "dd4e0304",
   "metadata": {},
   "outputs": [],
   "source": [
    "#NOTE 2: There are different ways to perform the first derivative: forward, backward and centered. I chose\n",
    "#       centered, which has the following format dy/dx=(yi+1−yi−1)/2*h. Therefore, a matrix of\n",
    "#       -1 0 1 is needed. "
   ]
  },
  {
   "cell_type": "code",
   "execution_count": 4,
   "id": "ab60fdc5",
   "metadata": {},
   "outputs": [
    {
     "name": "stdout",
     "output_type": "stream",
     "text": [
      "    Time  Cumulative Prop.\n",
      "0      0          0.000000\n",
      "1     10          0.000000\n",
      "2     50          0.000000\n",
      "3     90          0.000000\n",
      "4    130          0.000000\n",
      "..   ...               ...\n",
      "67  1985          0.995531\n",
      "68  2005          0.989944\n",
      "69  2025          0.994413\n",
      "70  2065          1.000000\n",
      "71  2105          1.000000\n",
      "\n",
      "[72 rows x 2 columns]\n"
     ]
    }
   ],
   "source": [
    "#We read the data and add titles\n",
    "cars = pd.read_csv(\"C:\\\\Users\\\\gerar\\\\Desktop\\\\2022\\\\HOMEWORK\\\\data\\\\cdf.csv\", \n",
    "                  names = [\"Time\", \"Cumulative Prop.\"])\n",
    "#cars.head()\n",
    "#READ DATA\n",
    "df = pd.DataFrame(cars)\n",
    "print (df)"
   ]
  },
  {
   "cell_type": "code",
   "execution_count": 5,
   "id": "946153ba",
   "metadata": {},
   "outputs": [],
   "source": [
    "from sklearn import datasets"
   ]
  },
  {
   "cell_type": "code",
   "execution_count": 6,
   "id": "d0bcd8f4",
   "metadata": {
    "scrolled": true
   },
   "outputs": [],
   "source": [
    "#We correct the data as stated in NOTE 1\n",
    "df = df.drop([47], axis=0)\n",
    "df = df.drop([48], axis=0)\n",
    "df = df.drop([50], axis=0)\n",
    "df = df.drop([51], axis=0)\n",
    "df = df.drop([52], axis=0)\n",
    "df = df.drop([53], axis=0)\n",
    "df = df.drop([54], axis=0)\n",
    "df = df.drop([55], axis=0)\n",
    "df = df.drop([56], axis=0)\n",
    "df = df.drop([57], axis=0)\n",
    "df = df.drop([58], axis=0)\n",
    "df = df.drop([60], axis=0)\n",
    "df = df.drop([61], axis=0)\n",
    "df = df.drop([62], axis=0)\n",
    "df = df.drop([63], axis=0)\n",
    "df = df.drop([64], axis=0)\n",
    "df = df.drop([65], axis=0)\n",
    "df = df.drop([66], axis=0)\n",
    "df = df.drop([67], axis=0)\n",
    "df = df.drop([68], axis=0)"
   ]
  },
  {
   "cell_type": "code",
   "execution_count": 7,
   "id": "8528dfbd",
   "metadata": {
    "scrolled": true
   },
   "outputs": [],
   "source": [
    "#We create a matrix of yi\n",
    "cars_n = np.array(df)\n",
    "cars_del = np.delete(cars_n, 0, 1) #erase column\n",
    "#print (cars_del)"
   ]
  },
  {
   "cell_type": "code",
   "execution_count": 8,
   "id": "216f9979",
   "metadata": {
    "scrolled": true
   },
   "outputs": [
    {
     "name": "stdout",
     "output_type": "stream",
     "text": [
      "[[-1.  0.  1. ...  0.  0.  0.]\n",
      " [ 0. -1.  0. ...  0.  0.  0.]\n",
      " [ 0.  0. -1. ...  0.  0.  0.]\n",
      " ...\n",
      " [ 0.  0.  0. ... -1.  0.  1.]\n",
      " [ 0.  0.  0. ...  0. -1.  0.]\n",
      " [ 0.  0.  0. ...  0.  0.  0.]]\n"
     ]
    }
   ],
   "source": [
    "#I create a matrix of -1 0 1, which is the FINITE DIFFERENCE MATRIX\n",
    "n=52 # This number (# of rows from dataset) is chosen after the data correction in Note 1\n",
    "A = np.zeros((n+1, n+1))\n",
    "A = np.zeros((n+1, n+1))\n",
    "A[0, 0] = 1\n",
    "A[n, n] = 1\n",
    "for i in range(1, n):\n",
    "    A[i, i-1] = -1\n",
    "    A[i, i] = 0\n",
    "    A[i, i+1] = 1\n",
    "\n",
    "A_del = np.delete(A, 52, 1) #erase column\n",
    "A_del = np.delete(A_del, 0, 0) #erase raw\n",
    "print(A_del)\n"
   ]
  },
  {
   "cell_type": "code",
   "execution_count": 9,
   "id": "02b62bfc",
   "metadata": {
    "scrolled": true
   },
   "outputs": [
    {
     "name": "stdout",
     "output_type": "stream",
     "text": [
      "[[-0.5  0.   0.5 ...  0.   0.   0. ]\n",
      " [ 0.  -0.5  0.  ...  0.   0.   0. ]\n",
      " [ 0.   0.  -0.5 ...  0.   0.   0. ]\n",
      " ...\n",
      " [ 0.   0.   0.  ... -0.5  0.   0.5]\n",
      " [ 0.   0.   0.  ...  0.  -0.5  0. ]\n",
      " [ 0.   0.   0.  ...  0.   0.   0. ]]\n"
     ]
    }
   ],
   "source": [
    "#We define characteristics of the matrix\n",
    "h = 1 # stepness\n",
    "A_new = 1/(2*h)*A_del\n",
    "A_new2 = np.array(A_new) \n",
    "print (A_new2)"
   ]
  },
  {
   "cell_type": "code",
   "execution_count": 10,
   "id": "484c3e55",
   "metadata": {},
   "outputs": [
    {
     "name": "stderr",
     "output_type": "stream",
     "text": [
      "C:\\Users\\gerar\\AppData\\Local\\Temp\\ipykernel_20136\\2811723434.py:6: FutureWarning: The frame.append method is deprecated and will be removed from pandas in a future version. Use pandas.concat instead.\n",
      "  mul = pd.DataFrame([[0]], columns=mul.columns).append(mul)\n"
     ]
    }
   ],
   "source": [
    "# Multiplication of matrixes\n",
    "multi = np.matmul(A_new2,cars_del)\n",
    "multi = multi*100 #is converted into percentage\n",
    "\n",
    "mul = pd.DataFrame(multi)\n",
    "mul = pd.DataFrame([[0]], columns=mul.columns).append(mul)\n",
    "\n",
    "mul_n = mul[:-1]"
   ]
  },
  {
   "cell_type": "code",
   "execution_count": 11,
   "id": "2279e18f",
   "metadata": {},
   "outputs": [],
   "source": [
    "# A table of arrival places is created, i.e., 1st place, 2nd, 3rd, 4th..etc.\n",
    "bc = np.array ([[0],[0],[0],[0],[0],[0],[0],[0],[0],[0],[1],[2],[3],[4],[5],\n",
    "                [6],[7],[8],[9],[10],[11],[12],[13],[14],[15],[16],[17],[18],[19],\n",
    "                [20],[21],[22],[23],[24],[25],[26],[27],[28],[29],[30],[31],[32],[33],[34],\n",
    "                [35],[36],[37],[38],[39],[40],[41],[42]])"
   ]
  },
  {
   "cell_type": "code",
   "execution_count": 12,
   "id": "0585f698",
   "metadata": {
    "scrolled": true
   },
   "outputs": [
    {
     "name": "stdout",
     "output_type": "stream",
     "text": [
      "    Time  Cumulative Distribution  Prob. Density (%)  Place in the Race\n",
      "0      0                 0.000000           0.000000                  0\n",
      "1     10                 0.000000           0.000000                  0\n",
      "2     50                 0.000000           0.000000                  0\n",
      "3     90                 0.000000           0.000000                  0\n",
      "4    130                 0.000000           0.000000                  0\n",
      "5    170                 0.000000           0.000000                  0\n",
      "6    210                 0.000000           0.000000                  0\n",
      "7    250                 0.000000           0.000000                  0\n",
      "8    290                 0.000000           0.000000                  0\n",
      "9    330                 0.000000           0.000000                  0\n",
      "10   370                 0.000000           0.614525                  1\n",
      "11   435                 0.012291           1.564246                  2\n",
      "12   455                 0.031285           2.513966                  3\n",
      "13   475                 0.062570           2.681564                  4\n",
      "14   495                 0.084916           2.122905                  5\n",
      "15   505                 0.105028           2.290503                  6\n",
      "16   515                 0.130726           2.625699                  7\n",
      "17   525                 0.157542           2.960893                  8\n",
      "18   540                 0.189944           4.357542                  9\n",
      "19   565                 0.244693           4.525140                 10\n",
      "20   575                 0.280447           3.910614                 11\n",
      "21   595                 0.322905           3.631285                 12\n",
      "22   605                 0.353073           4.078212                 13\n",
      "23   625                 0.404469           5.586592                 14\n",
      "24   650                 0.464804           5.139665                 15\n",
      "25   665                 0.507263           3.016759                 16\n",
      "26   675                 0.525140           3.966481                 17\n",
      "27   700                 0.586592           4.134078                 18\n",
      "28   710                 0.607821           3.407821                 19\n",
      "29   730                 0.654749           2.960894                 20\n",
      "30   740                 0.667039           2.011174                 21\n",
      "31   760                 0.694972           3.743016                 22\n",
      "32   780                 0.741899           3.296089                 23\n",
      "33   800                 0.760894           2.402235                 24\n",
      "34   825                 0.789944           3.016759                 25\n",
      "35   840                 0.821229           2.793297                 26\n",
      "36   860                 0.845810           2.402235                 27\n",
      "37   890                 0.869274           1.731843                 28\n",
      "38   900                 0.880447           0.782123                 29\n",
      "39   910                 0.884916           1.508380                 30\n",
      "40   960                 0.910615           2.011173                 31\n",
      "41  1000                 0.925140           1.564245                 32\n",
      "42  1035                 0.941899           1.452514                 33\n",
      "43  1095                 0.954190           1.005586                 34\n",
      "44  1135                 0.962011           0.502793                 35\n",
      "45  1150                 0.964246           0.837989                 36\n",
      "46  1235                 0.978771           1.061452                 37\n",
      "49  1385                 0.985475           0.670391                 38\n",
      "59  1725                 0.992179           0.446928                 39\n",
      "69  2025                 0.994413           0.391062                 40\n",
      "70  2065                 1.000000           0.279329                 41\n",
      "71  2105                 1.000000         -50.000000                 42\n"
     ]
    }
   ],
   "source": [
    "#Everything in put together into a single matrix\n",
    "cars_cor = df\n",
    "#print (cars_cor)\n",
    "cd = pd.DataFrame(cars_cor)\n",
    "df.insert(2, \"Probability (%)\", mul_n, True)\n",
    "df.insert(3, \"Place in the Race\", bc, True)\n",
    "cd.columns = [\"Time\", \"Cumulative Distribution\", \"Prob. Density (%)\", \"Place in the Race\"]\n",
    "\n",
    "print (df)"
   ]
  },
  {
   "cell_type": "code",
   "execution_count": 13,
   "id": "8b9708cc",
   "metadata": {
    "scrolled": false
   },
   "outputs": [
    {
     "data": {
      "text/plain": [
       "[<matplotlib.lines.Line2D at 0x21b75a2a7c0>]"
      ]
     },
     "execution_count": 13,
     "metadata": {},
     "output_type": "execute_result"
    },
    {
     "data": {
      "image/png": "[encoded data removed]",
      "text/plain": [
       "<Figure size 504x360 with 1 Axes>"
      ]
     },
     "metadata": {
      "needs_background": "light"
     },
     "output_type": "display_data"
    },
    {
     "data": {
      "image/png": "[encoded data removed]",
      "text/plain": [
       "<Figure size 504x360 with 1 Axes>"
      ]
     },
     "metadata": {
      "needs_background": "light"
     },
     "output_type": "display_data"
    }
   ],
   "source": [
    "fig = plt.figure(figsize = (7,5))\n",
    "ax = fig.add_subplot (1,1,1)\n",
    "ax.set_title ('Before Numeric Derivative', fontsize = 20)\n",
    "ax.set_xlabel ('Time', fontsize = 15)\n",
    "ax.set_ylabel ('Cumulative Distribution', fontsize = 15)\n",
    "\n",
    "ax.plot(df['Time'][:-2], df['Cumulative Distribution'][:-2], '-o')\n",
    "\n",
    "fig_2 = plt.figure(figsize = (7,5))\n",
    "ax_2 = fig_2.add_subplot (1,1,1)\n",
    "ax_2.set_title ('After Numeric Derivative', fontsize = 20)\n",
    "ax_2.set_xlabel ('Time', fontsize = 15)\n",
    "ax_2.set_ylabel ('Prob. Density (%)', fontsize = 15)\n",
    "\n",
    "ax_2.plot(df['Time'][:-2], df['Prob. Density (%)'][:-2], '-o', color='red')\n",
    "\n"
   ]
  },
  {
   "cell_type": "code",
   "execution_count": 14,
   "id": "b3499cc2",
   "metadata": {},
   "outputs": [],
   "source": [
    "#ANSWER: The 1st place has a probability of  0.614525%; 2nd: 1.564246%; 3rd: 2.513966%. For any \n",
    "#        individula runner see Table (df)\n",
    "#        Last place has a probability of 0.279329%"
   ]
  },
  {
   "cell_type": "markdown",
   "id": "57887220",
   "metadata": {},
   "source": [
    "# ####################################################"
   ]
  },
  {
   "cell_type": "markdown",
   "id": "234c9a23",
   "metadata": {},
   "source": [
    "# EXERCISE 3"
   ]
  },
  {
   "cell_type": "markdown",
   "id": "d25b3bcf",
   "metadata": {},
   "source": [
    "# --> PART a) (# of clusters)"
   ]
  },
  {
   "cell_type": "code",
   "execution_count": 15,
   "id": "8be9e3d4",
   "metadata": {},
   "outputs": [],
   "source": [
    "import numpy as np\n",
    "import pandas as pd\n",
    "import matplotlib.pyplot as plt\n",
    "from sklearn.cluster import KMeans "
   ]
  },
  {
   "cell_type": "code",
   "execution_count": 19,
   "id": "b3e33e8f",
   "metadata": {},
   "outputs": [
    {
     "data": {
      "text/html": [
       "<div>\n",
       "<style scoped>\n",
       "    .dataframe tbody tr th:only-of-type {\n",
       "        vertical-align: middle;\n",
       "    }\n",
       "\n",
       "    .dataframe tbody tr th {\n",
       "        vertical-align: top;\n",
       "    }\n",
       "\n",
       "    .dataframe thead th {\n",
       "        text-align: right;\n",
       "    }\n",
       "</style>\n",
       "<table border=\"1\" class=\"dataframe\">\n",
       "  <thead>\n",
       "    <tr style=\"text-align: right;\">\n",
       "      <th></th>\n",
       "      <th>Time</th>\n",
       "      <th>x</th>\n",
       "      <th>y</th>\n",
       "      <th>z</th>\n",
       "    </tr>\n",
       "  </thead>\n",
       "  <tbody>\n",
       "    <tr>\n",
       "      <th>0</th>\n",
       "      <td>10.10</td>\n",
       "      <td>-1.310</td>\n",
       "      <td>-0.152</td>\n",
       "      <td>-8.99</td>\n",
       "    </tr>\n",
       "    <tr>\n",
       "      <th>1</th>\n",
       "      <td>-4.39</td>\n",
       "      <td>-0.329</td>\n",
       "      <td>8.400</td>\n",
       "      <td>-9.86</td>\n",
       "    </tr>\n",
       "    <tr>\n",
       "      <th>2</th>\n",
       "      <td>-2.97</td>\n",
       "      <td>-11.100</td>\n",
       "      <td>-4.010</td>\n",
       "      <td>9.66</td>\n",
       "    </tr>\n",
       "    <tr>\n",
       "      <th>3</th>\n",
       "      <td>8.33</td>\n",
       "      <td>0.454</td>\n",
       "      <td>0.163</td>\n",
       "      <td>-8.73</td>\n",
       "    </tr>\n",
       "    <tr>\n",
       "      <th>4</th>\n",
       "      <td>-4.32</td>\n",
       "      <td>1.780</td>\n",
       "      <td>4.350</td>\n",
       "      <td>7.67</td>\n",
       "    </tr>\n",
       "  </tbody>\n",
       "</table>\n",
       "</div>"
      ],
      "text/plain": [
       "    Time       x      y     z\n",
       "0  10.10  -1.310 -0.152 -8.99\n",
       "1  -4.39  -0.329  8.400 -9.86\n",
       "2  -2.97 -11.100 -4.010  9.66\n",
       "3   8.33   0.454  0.163 -8.73\n",
       "4  -4.32   1.780  4.350  7.67"
      ]
     },
     "execution_count": 19,
     "metadata": {},
     "output_type": "execute_result"
    }
   ],
   "source": [
    "coor = pd.read_csv(\"C:\\\\Users\\\\gerar\\\\Desktop\\\\2022\\\\HOMEWORK\\\\data\\\\coordinates.csv\",\n",
    "                    names = [\"Time\", \"x\", \"y\", \"z\"])\n",
    "coor.head()\n",
    "#coor.describe()"
   ]
  },
  {
   "cell_type": "code",
   "execution_count": 20,
   "id": "d32b035f",
   "metadata": {
    "scrolled": true
   },
   "outputs": [
    {
     "name": "stderr",
     "output_type": "stream",
     "text": [
      "C:\\Users\\gerar\\anaconda3\\lib\\site-packages\\sklearn\\cluster\\_kmeans.py:1332: UserWarning: KMeans is known to have a memory leak on Windows with MKL, when there are less chunks than available threads. You can avoid it by setting the environment variable OMP_NUM_THREADS=4.\n",
      "  warnings.warn(\n",
      "C:\\Users\\gerar\\anaconda3\\lib\\site-packages\\sklearn\\cluster\\_kmeans.py:1332: UserWarning: KMeans is known to have a memory leak on Windows with MKL, when there are less chunks than available threads. You can avoid it by setting the environment variable OMP_NUM_THREADS=4.\n",
      "  warnings.warn(\n",
      "C:\\Users\\gerar\\anaconda3\\lib\\site-packages\\sklearn\\cluster\\_kmeans.py:1332: UserWarning: KMeans is known to have a memory leak on Windows with MKL, when there are less chunks than available threads. You can avoid it by setting the environment variable OMP_NUM_THREADS=4.\n",
      "  warnings.warn(\n",
      "C:\\Users\\gerar\\anaconda3\\lib\\site-packages\\sklearn\\cluster\\_kmeans.py:1332: UserWarning: KMeans is known to have a memory leak on Windows with MKL, when there are less chunks than available threads. You can avoid it by setting the environment variable OMP_NUM_THREADS=4.\n",
      "  warnings.warn(\n",
      "C:\\Users\\gerar\\anaconda3\\lib\\site-packages\\sklearn\\cluster\\_kmeans.py:1332: UserWarning: KMeans is known to have a memory leak on Windows with MKL, when there are less chunks than available threads. You can avoid it by setting the environment variable OMP_NUM_THREADS=4.\n",
      "  warnings.warn(\n",
      "C:\\Users\\gerar\\anaconda3\\lib\\site-packages\\sklearn\\cluster\\_kmeans.py:1332: UserWarning: KMeans is known to have a memory leak on Windows with MKL, when there are less chunks than available threads. You can avoid it by setting the environment variable OMP_NUM_THREADS=4.\n",
      "  warnings.warn(\n",
      "C:\\Users\\gerar\\anaconda3\\lib\\site-packages\\sklearn\\cluster\\_kmeans.py:1332: UserWarning: KMeans is known to have a memory leak on Windows with MKL, when there are less chunks than available threads. You can avoid it by setting the environment variable OMP_NUM_THREADS=4.\n",
      "  warnings.warn(\n",
      "C:\\Users\\gerar\\anaconda3\\lib\\site-packages\\sklearn\\cluster\\_kmeans.py:1332: UserWarning: KMeans is known to have a memory leak on Windows with MKL, when there are less chunks than available threads. You can avoid it by setting the environment variable OMP_NUM_THREADS=4.\n",
      "  warnings.warn(\n",
      "C:\\Users\\gerar\\anaconda3\\lib\\site-packages\\sklearn\\cluster\\_kmeans.py:1332: UserWarning: KMeans is known to have a memory leak on Windows with MKL, when there are less chunks than available threads. You can avoid it by setting the environment variable OMP_NUM_THREADS=4.\n",
      "  warnings.warn(\n",
      "C:\\Users\\gerar\\anaconda3\\lib\\site-packages\\sklearn\\cluster\\_kmeans.py:1332: UserWarning: KMeans is known to have a memory leak on Windows with MKL, when there are less chunks than available threads. You can avoid it by setting the environment variable OMP_NUM_THREADS=4.\n",
      "  warnings.warn(\n",
      "C:\\Users\\gerar\\anaconda3\\lib\\site-packages\\sklearn\\cluster\\_kmeans.py:1332: UserWarning: KMeans is known to have a memory leak on Windows with MKL, when there are less chunks than available threads. You can avoid it by setting the environment variable OMP_NUM_THREADS=4.\n",
      "  warnings.warn(\n"
     ]
    }
   ],
   "source": [
    "#K-means is applied as seen in Data From Scratch book (Chapter 19)\n",
    "sqr = []\n",
    "for i in range (1,12):\n",
    "    kmeans = KMeans(n_clusters=i, max_iter=800)\n",
    "    kmeans.fit(coor)\n",
    "    sqr.append(kmeans.inertia_)"
   ]
  },
  {
   "cell_type": "code",
   "execution_count": 21,
   "id": "75631b1a",
   "metadata": {
    "scrolled": true
   },
   "outputs": [
    {
     "data": {
      "image/png": "[encoded data removed]",
      "text/plain": [
       "<Figure size 432x288 with 1 Axes>"
      ]
     },
     "metadata": {
      "needs_background": "light"
     },
     "output_type": "display_data"
    }
   ],
   "source": [
    "plt.plot(range(1,12),sqr, '-o' ,color = 'purple')\n",
    "plt.title(\"Choosing appropriate # of Clusters\", fontsize = 20)\n",
    "plt.xlabel(\"Optimal # of clusters\", fontsize = 15)\n",
    "plt.ylabel('Total squares error', fontsize = 15)\n",
    "plt.show()"
   ]
  },
  {
   "cell_type": "code",
   "execution_count": 22,
   "id": "fd363261",
   "metadata": {},
   "outputs": [],
   "source": [
    "#ANSWER: OPTIMAL NUMBER OF CLUSTERS IS 4 "
   ]
  },
  {
   "cell_type": "markdown",
   "id": "675d2ae2",
   "metadata": {},
   "source": [
    "# -->PART b) Portion of Variance in 1st Component"
   ]
  },
  {
   "cell_type": "code",
   "execution_count": 23,
   "id": "7e16876e",
   "metadata": {},
   "outputs": [
    {
     "data": {
      "text/html": [
       "<div>\n",
       "<style scoped>\n",
       "    .dataframe tbody tr th:only-of-type {\n",
       "        vertical-align: middle;\n",
       "    }\n",
       "\n",
       "    .dataframe tbody tr th {\n",
       "        vertical-align: top;\n",
       "    }\n",
       "\n",
       "    .dataframe thead th {\n",
       "        text-align: right;\n",
       "    }\n",
       "</style>\n",
       "<table border=\"1\" class=\"dataframe\">\n",
       "  <thead>\n",
       "    <tr style=\"text-align: right;\">\n",
       "      <th></th>\n",
       "      <th>Time</th>\n",
       "      <th>x</th>\n",
       "      <th>y</th>\n",
       "      <th>z</th>\n",
       "    </tr>\n",
       "  </thead>\n",
       "  <tbody>\n",
       "    <tr>\n",
       "      <th>count</th>\n",
       "      <td>1000.000000</td>\n",
       "      <td>1000.000000</td>\n",
       "      <td>1000.000000</td>\n",
       "      <td>1000.000000</td>\n",
       "    </tr>\n",
       "    <tr>\n",
       "      <th>mean</th>\n",
       "      <td>0.372781</td>\n",
       "      <td>0.559023</td>\n",
       "      <td>0.468505</td>\n",
       "      <td>0.509332</td>\n",
       "    </tr>\n",
       "    <tr>\n",
       "      <th>std</th>\n",
       "      <td>0.255128</td>\n",
       "      <td>0.243496</td>\n",
       "      <td>0.245288</td>\n",
       "      <td>0.327849</td>\n",
       "    </tr>\n",
       "    <tr>\n",
       "      <th>min</th>\n",
       "      <td>0.000000</td>\n",
       "      <td>0.000000</td>\n",
       "      <td>0.000000</td>\n",
       "      <td>0.000000</td>\n",
       "    </tr>\n",
       "    <tr>\n",
       "      <th>25%</th>\n",
       "      <td>0.210643</td>\n",
       "      <td>0.509264</td>\n",
       "      <td>0.289288</td>\n",
       "      <td>0.134188</td>\n",
       "    </tr>\n",
       "    <tr>\n",
       "      <th>50%</th>\n",
       "      <td>0.286345</td>\n",
       "      <td>0.594535</td>\n",
       "      <td>0.411365</td>\n",
       "      <td>0.693803</td>\n",
       "    </tr>\n",
       "    <tr>\n",
       "      <th>75%</th>\n",
       "      <td>0.395683</td>\n",
       "      <td>0.681628</td>\n",
       "      <td>0.617591</td>\n",
       "      <td>0.789850</td>\n",
       "    </tr>\n",
       "    <tr>\n",
       "      <th>max</th>\n",
       "      <td>1.000000</td>\n",
       "      <td>1.000000</td>\n",
       "      <td>1.000000</td>\n",
       "      <td>1.000000</td>\n",
       "    </tr>\n",
       "  </tbody>\n",
       "</table>\n",
       "</div>"
      ],
      "text/plain": [
       "              Time            x            y            z\n",
       "count  1000.000000  1000.000000  1000.000000  1000.000000\n",
       "mean      0.372781     0.559023     0.468505     0.509332\n",
       "std       0.255128     0.243496     0.245288     0.327849\n",
       "min       0.000000     0.000000     0.000000     0.000000\n",
       "25%       0.210643     0.509264     0.289288     0.134188\n",
       "50%       0.286345     0.594535     0.411365     0.693803\n",
       "75%       0.395683     0.681628     0.617591     0.789850\n",
       "max       1.000000     1.000000     1.000000     1.000000"
      ]
     },
     "execution_count": 23,
     "metadata": {},
     "output_type": "execute_result"
    }
   ],
   "source": [
    "#Normalization of values\n",
    "coor_norm = (coor-coor.min())/(coor.max()-coor.min()) \n",
    "coor_norm.describe()"
   ]
  },
  {
   "cell_type": "code",
   "execution_count": 24,
   "id": "91d3cff4",
   "metadata": {},
   "outputs": [
    {
     "name": "stdout",
     "output_type": "stream",
     "text": [
      "     Component_1  Component_2\n",
      "0      -0.422247     0.468036\n",
      "1      -0.497660    -0.202968\n",
      "2       0.592671     0.320950\n",
      "3      -0.421032     0.363308\n",
      "4       0.188870    -0.232034\n",
      "..           ...          ...\n",
      "995     0.246747    -0.325508\n",
      "996     0.306637    -0.364111\n",
      "997     0.217527    -0.257157\n",
      "998    -0.481331     0.301773\n",
      "999     0.181956    -0.308781\n",
      "\n",
      "[1000 rows x 2 columns]\n"
     ]
    }
   ],
   "source": [
    "#Obtaining the two components\n",
    "from sklearn.decomposition import PCA #funcion import\n",
    "pca = PCA(n_components=2)  #2 components\n",
    "pca_coor = pca.fit_transform(coor_norm) #here I obtain Principal components\n",
    "pca_coor_df = pd.DataFrame (data = pca_coor, columns = ['Component_1', 'Component_2']) #data frame da valores\n",
    "print (pca_coor_df)"
   ]
  },
  {
   "cell_type": "code",
   "execution_count": 25,
   "id": "17c04b01",
   "metadata": {},
   "outputs": [
    {
     "name": "stdout",
     "output_type": "stream",
     "text": [
      "[0.51906361 0.28601733] --> Variance of 1st (left) and 2nd component (right)\n"
     ]
    }
   ],
   "source": [
    "var = pca.explained_variance_ratio_\n",
    "print (var,   '--> Variance of 1st (left) and 2nd component (right)') "
   ]
  },
  {
   "cell_type": "code",
   "execution_count": 26,
   "id": "c22a8170",
   "metadata": {},
   "outputs": [],
   "source": [
    "#ANSWER: VARIANCE OF FIRST COMPONENT IS 0.51906361"
   ]
  },
  {
   "cell_type": "markdown",
   "id": "557c7974",
   "metadata": {},
   "source": [
    "# -->PART c) Run Algorithm on PCA data"
   ]
  },
  {
   "cell_type": "code",
   "execution_count": 27,
   "id": "6bb915fd",
   "metadata": {},
   "outputs": [],
   "source": [
    "#CHOSEN ALGORITHM : K-MEANS"
   ]
  },
  {
   "cell_type": "code",
   "execution_count": 28,
   "id": "96a020af",
   "metadata": {},
   "outputs": [
    {
     "name": "stderr",
     "output_type": "stream",
     "text": [
      "C:\\Users\\gerar\\anaconda3\\lib\\site-packages\\sklearn\\cluster\\_kmeans.py:1332: UserWarning: KMeans is known to have a memory leak on Windows with MKL, when there are less chunks than available threads. You can avoid it by setting the environment variable OMP_NUM_THREADS=4.\n",
      "  warnings.warn(\n"
     ]
    },
    {
     "data": {
      "text/html": [
       "<style>#sk-container-id-1 {color: black;background-color: white;}#sk-container-id-1 pre{padding: 0;}#sk-container-id-1 div.sk-toggleable {background-color: white;}#sk-container-id-1 label.sk-toggleable__label {cursor: pointer;display: block;width: 100%;margin-bottom: 0;padding: 0.3em;box-sizing: border-box;text-align: center;}#sk-container-id-1 label.sk-toggleable__label-arrow:before {content: \"▸\";float: left;margin-right: 0.25em;color: #696969;}#sk-container-id-1 label.sk-toggleable__label-arrow:hover:before {color: black;}#sk-container-id-1 div.sk-estimator:hover label.sk-toggleable__label-arrow:before {color: black;}#sk-container-id-1 div.sk-toggleable__content {max-height: 0;max-width: 0;overflow: hidden;text-align: left;background-color: #f0f8ff;}#sk-container-id-1 div.sk-toggleable__content pre {margin: 0.2em;color: black;border-radius: 0.25em;background-color: #f0f8ff;}#sk-container-id-1 input.sk-toggleable__control:checked~div.sk-toggleable__content {max-height: 200px;max-width: 100%;overflow: auto;}#sk-container-id-1 input.sk-toggleable__control:checked~label.sk-toggleable__label-arrow:before {content: \"▾\";}#sk-container-id-1 div.sk-estimator input.sk-toggleable__control:checked~label.sk-toggleable__label {background-color: #d4ebff;}#sk-container-id-1 div.sk-label input.sk-toggleable__control:checked~label.sk-toggleable__label {background-color: #d4ebff;}#sk-container-id-1 input.sk-hidden--visually {border: 0;clip: rect(1px 1px 1px 1px);clip: rect(1px, 1px, 1px, 1px);height: 1px;margin: -1px;overflow: hidden;padding: 0;position: absolute;width: 1px;}#sk-container-id-1 div.sk-estimator {font-family: monospace;background-color: #f0f8ff;border: 1px dotted black;border-radius: 0.25em;box-sizing: border-box;margin-bottom: 0.5em;}#sk-container-id-1 div.sk-estimator:hover {background-color: #d4ebff;}#sk-container-id-1 div.sk-parallel-item::after {content: \"\";width: 100%;border-bottom: 1px solid gray;flex-grow: 1;}#sk-container-id-1 div.sk-label:hover label.sk-toggleable__label {background-color: #d4ebff;}#sk-container-id-1 div.sk-serial::before {content: \"\";position: absolute;border-left: 1px solid gray;box-sizing: border-box;top: 0;bottom: 0;left: 50%;z-index: 0;}#sk-container-id-1 div.sk-serial {display: flex;flex-direction: column;align-items: center;background-color: white;padding-right: 0.2em;padding-left: 0.2em;position: relative;}#sk-container-id-1 div.sk-item {position: relative;z-index: 1;}#sk-container-id-1 div.sk-parallel {display: flex;align-items: stretch;justify-content: center;background-color: white;position: relative;}#sk-container-id-1 div.sk-item::before, #sk-container-id-1 div.sk-parallel-item::before {content: \"\";position: absolute;border-left: 1px solid gray;box-sizing: border-box;top: 0;bottom: 0;left: 50%;z-index: -1;}#sk-container-id-1 div.sk-parallel-item {display: flex;flex-direction: column;z-index: 1;position: relative;background-color: white;}#sk-container-id-1 div.sk-parallel-item:first-child::after {align-self: flex-end;width: 50%;}#sk-container-id-1 div.sk-parallel-item:last-child::after {align-self: flex-start;width: 50%;}#sk-container-id-1 div.sk-parallel-item:only-child::after {width: 0;}#sk-container-id-1 div.sk-dashed-wrapped {border: 1px dashed gray;margin: 0 0.4em 0.5em 0.4em;box-sizing: border-box;padding-bottom: 0.4em;background-color: white;}#sk-container-id-1 div.sk-label label {font-family: monospace;font-weight: bold;display: inline-block;line-height: 1.2em;}#sk-container-id-1 div.sk-label-container {text-align: center;}#sk-container-id-1 div.sk-container {/* jupyter's `normalize.less` sets `[hidden] { display: none; }` but bootstrap.min.css set `[hidden] { display: none !important; }` so we also need the `!important` here to be able to override the default hidden behavior on the sphinx rendered scikit-learn.org. See: https://github.com/scikit-learn/scikit-learn/issues/21755 */display: inline-block !important;position: relative;}#sk-container-id-1 div.sk-text-repr-fallback {display: none;}</style><div id=\"sk-container-id-1\" class=\"sk-top-container\"><div class=\"sk-text-repr-fallback\"><pre>KMeans(max_iter=600, n_clusters=4)</pre><b>In a Jupyter environment, please rerun this cell to show the HTML representation or trust the notebook. <br />On GitHub, the HTML representation is unable to render, please try loading this page with nbviewer.org.</b></div><div class=\"sk-container\" hidden><div class=\"sk-item\"><div class=\"sk-estimator sk-toggleable\"><input class=\"sk-toggleable__control sk-hidden--visually\" id=\"sk-estimator-id-1\" type=\"checkbox\" checked><label for=\"sk-estimator-id-1\" class=\"sk-toggleable__label sk-toggleable__label-arrow\">KMeans</label><div class=\"sk-toggleable__content\"><pre>KMeans(max_iter=600, n_clusters=4)</pre></div></div></div></div></div>"
      ],
      "text/plain": [
       "KMeans(max_iter=600, n_clusters=4)"
      ]
     },
     "execution_count": 28,
     "metadata": {},
     "output_type": "execute_result"
    }
   ],
   "source": [
    "clustering=KMeans(n_clusters = 4, max_iter = 600) #4 clusters based on a) \n",
    "clustering.fit(coor_norm)# model is applied"
   ]
  },
  {
   "cell_type": "code",
   "execution_count": 29,
   "id": "604795b5",
   "metadata": {},
   "outputs": [
    {
     "data": {
      "text/html": [
       "<div>\n",
       "<style scoped>\n",
       "    .dataframe tbody tr th:only-of-type {\n",
       "        vertical-align: middle;\n",
       "    }\n",
       "\n",
       "    .dataframe tbody tr th {\n",
       "        vertical-align: top;\n",
       "    }\n",
       "\n",
       "    .dataframe thead th {\n",
       "        text-align: right;\n",
       "    }\n",
       "</style>\n",
       "<table border=\"1\" class=\"dataframe\">\n",
       "  <thead>\n",
       "    <tr style=\"text-align: right;\">\n",
       "      <th></th>\n",
       "      <th>Time</th>\n",
       "      <th>x</th>\n",
       "      <th>y</th>\n",
       "      <th>z</th>\n",
       "      <th>KMeans_Clusters</th>\n",
       "    </tr>\n",
       "  </thead>\n",
       "  <tbody>\n",
       "    <tr>\n",
       "      <th>0</th>\n",
       "      <td>10.10</td>\n",
       "      <td>-1.310</td>\n",
       "      <td>-0.152</td>\n",
       "      <td>-8.99</td>\n",
       "      <td>1</td>\n",
       "    </tr>\n",
       "    <tr>\n",
       "      <th>1</th>\n",
       "      <td>-4.39</td>\n",
       "      <td>-0.329</td>\n",
       "      <td>8.400</td>\n",
       "      <td>-9.86</td>\n",
       "      <td>2</td>\n",
       "    </tr>\n",
       "    <tr>\n",
       "      <th>2</th>\n",
       "      <td>-2.97</td>\n",
       "      <td>-11.100</td>\n",
       "      <td>-4.010</td>\n",
       "      <td>9.66</td>\n",
       "      <td>3</td>\n",
       "    </tr>\n",
       "    <tr>\n",
       "      <th>3</th>\n",
       "      <td>8.33</td>\n",
       "      <td>0.454</td>\n",
       "      <td>0.163</td>\n",
       "      <td>-8.73</td>\n",
       "      <td>1</td>\n",
       "    </tr>\n",
       "    <tr>\n",
       "      <th>4</th>\n",
       "      <td>-4.32</td>\n",
       "      <td>1.780</td>\n",
       "      <td>4.350</td>\n",
       "      <td>7.67</td>\n",
       "      <td>0</td>\n",
       "    </tr>\n",
       "  </tbody>\n",
       "</table>\n",
       "</div>"
      ],
      "text/plain": [
       "    Time       x      y     z  KMeans_Clusters\n",
       "0  10.10  -1.310 -0.152 -8.99                1\n",
       "1  -4.39  -0.329  8.400 -9.86                2\n",
       "2  -2.97 -11.100 -4.010  9.66                3\n",
       "3   8.33   0.454  0.163 -8.73                1\n",
       "4  -4.32   1.780  4.350  7.67                0"
      ]
     },
     "execution_count": 29,
     "metadata": {},
     "output_type": "execute_result"
    }
   ],
   "source": [
    "#Here we see how each set of data corresponds to a cluster. Clusters range from 0 to 3\n",
    "coor['KMeans_Clusters']=clustering.labels_\n",
    "coor.head()"
   ]
  },
  {
   "cell_type": "code",
   "execution_count": 30,
   "id": "1fbe6ddc",
   "metadata": {},
   "outputs": [
    {
     "data": {
      "text/html": [
       "<div>\n",
       "<style scoped>\n",
       "    .dataframe tbody tr th:only-of-type {\n",
       "        vertical-align: middle;\n",
       "    }\n",
       "\n",
       "    .dataframe tbody tr th {\n",
       "        vertical-align: top;\n",
       "    }\n",
       "\n",
       "    .dataframe thead th {\n",
       "        text-align: right;\n",
       "    }\n",
       "</style>\n",
       "<table border=\"1\" class=\"dataframe\">\n",
       "  <thead>\n",
       "    <tr style=\"text-align: right;\">\n",
       "      <th></th>\n",
       "      <th>Component_1</th>\n",
       "      <th>Component_2</th>\n",
       "      <th>KMeans_Clusters</th>\n",
       "    </tr>\n",
       "  </thead>\n",
       "  <tbody>\n",
       "    <tr>\n",
       "      <th>0</th>\n",
       "      <td>-0.422247</td>\n",
       "      <td>0.468036</td>\n",
       "      <td>1</td>\n",
       "    </tr>\n",
       "    <tr>\n",
       "      <th>1</th>\n",
       "      <td>-0.497660</td>\n",
       "      <td>-0.202968</td>\n",
       "      <td>2</td>\n",
       "    </tr>\n",
       "    <tr>\n",
       "      <th>2</th>\n",
       "      <td>0.592671</td>\n",
       "      <td>0.320950</td>\n",
       "      <td>3</td>\n",
       "    </tr>\n",
       "    <tr>\n",
       "      <th>3</th>\n",
       "      <td>-0.421032</td>\n",
       "      <td>0.363308</td>\n",
       "      <td>1</td>\n",
       "    </tr>\n",
       "    <tr>\n",
       "      <th>4</th>\n",
       "      <td>0.188870</td>\n",
       "      <td>-0.232034</td>\n",
       "      <td>0</td>\n",
       "    </tr>\n",
       "    <tr>\n",
       "      <th>...</th>\n",
       "      <td>...</td>\n",
       "      <td>...</td>\n",
       "      <td>...</td>\n",
       "    </tr>\n",
       "    <tr>\n",
       "      <th>995</th>\n",
       "      <td>0.246747</td>\n",
       "      <td>-0.325508</td>\n",
       "      <td>0</td>\n",
       "    </tr>\n",
       "    <tr>\n",
       "      <th>996</th>\n",
       "      <td>0.306637</td>\n",
       "      <td>-0.364111</td>\n",
       "      <td>0</td>\n",
       "    </tr>\n",
       "    <tr>\n",
       "      <th>997</th>\n",
       "      <td>0.217527</td>\n",
       "      <td>-0.257157</td>\n",
       "      <td>0</td>\n",
       "    </tr>\n",
       "    <tr>\n",
       "      <th>998</th>\n",
       "      <td>-0.481331</td>\n",
       "      <td>0.301773</td>\n",
       "      <td>1</td>\n",
       "    </tr>\n",
       "    <tr>\n",
       "      <th>999</th>\n",
       "      <td>0.181956</td>\n",
       "      <td>-0.308781</td>\n",
       "      <td>0</td>\n",
       "    </tr>\n",
       "  </tbody>\n",
       "</table>\n",
       "<p>1000 rows × 3 columns</p>\n",
       "</div>"
      ],
      "text/plain": [
       "     Component_1  Component_2  KMeans_Clusters\n",
       "0      -0.422247     0.468036                1\n",
       "1      -0.497660    -0.202968                2\n",
       "2       0.592671     0.320950                3\n",
       "3      -0.421032     0.363308                1\n",
       "4       0.188870    -0.232034                0\n",
       "..           ...          ...              ...\n",
       "995     0.246747    -0.325508                0\n",
       "996     0.306637    -0.364111                0\n",
       "997     0.217527    -0.257157                0\n",
       "998    -0.481331     0.301773                1\n",
       "999     0.181956    -0.308781                0\n",
       "\n",
       "[1000 rows x 3 columns]"
      ]
     },
     "execution_count": 30,
     "metadata": {},
     "output_type": "execute_result"
    }
   ],
   "source": [
    "#Everything in put together into a single table. \n",
    "pca_coor_df = pd.DataFrame (data = pca_coor, columns = ['Component_1', 'Component_2']) #data frame da valores\n",
    "pca_new_coor = pd.concat([pca_coor_df, coor[['KMeans_Clusters']]], axis=1)#se anade el k means\n",
    "pca_new_coor\n"
   ]
  },
  {
   "cell_type": "code",
   "execution_count": 31,
   "id": "f8268ec6",
   "metadata": {},
   "outputs": [
    {
     "data": {
      "image/png": "[encoded data removed]",
      "text/plain": [
       "<Figure size 576x432 with 1 Axes>"
      ]
     },
     "metadata": {
      "needs_background": "light"
     },
     "output_type": "display_data"
    }
   ],
   "source": [
    "fig = plt.figure(figsize = (8,6))\n",
    "ax = fig.add_subplot (1,1,1)\n",
    "ax.set_xlabel ('Component 1', fontsize = 15)\n",
    "ax.set_ylabel ('Component 2', fontsize = 15)\n",
    "ax.set_title ('K-Means Applied on PCA', fontsize = 20)\n",
    "color_theme = np.array([\"red\", \"green\",\"blue\",\"pink\"])\n",
    "ax.scatter (x = pca_new_coor.Component_1, y=pca_new_coor.Component_2, \n",
    "             c=color_theme[pca_new_coor.KMeans_Clusters], s=40)\n",
    "\n",
    "plt.show()"
   ]
  },
  {
   "cell_type": "code",
   "execution_count": 32,
   "id": "afef28c6",
   "metadata": {},
   "outputs": [],
   "source": [
    "#ANSWER: FOUR CLUSTERS ARE FOUND"
   ]
  },
  {
   "cell_type": "markdown",
   "id": "dbddb6ca",
   "metadata": {},
   "source": [
    "# EXERCISE 4"
   ]
  },
  {
   "cell_type": "code",
   "execution_count": 37,
   "id": "1161dc58",
   "metadata": {},
   "outputs": [],
   "source": [
    "import numpy as np\n",
    "import pandas as pd\n",
    "import matplotlib.pyplot as plt"
   ]
  },
  {
   "cell_type": "code",
   "execution_count": 38,
   "id": "6e4f8e4a",
   "metadata": {},
   "outputs": [],
   "source": [
    "#We read the data \n",
    "df = pd.read_csv(\"C:\\\\Users\\\\gerar\\\\Desktop\\\\2022\\\\HOMEWORK\\\\data\\\\Car dataset from Kaggle.csv\", \n",
    "           engine = 'python')"
   ]
  },
  {
   "cell_type": "code",
   "execution_count": 39,
   "id": "2e5b21c7",
   "metadata": {},
   "outputs": [
    {
     "data": {
      "text/html": [
       "<div>\n",
       "<style scoped>\n",
       "    .dataframe tbody tr th:only-of-type {\n",
       "        vertical-align: middle;\n",
       "    }\n",
       "\n",
       "    .dataframe tbody tr th {\n",
       "        vertical-align: top;\n",
       "    }\n",
       "\n",
       "    .dataframe thead th {\n",
       "        text-align: right;\n",
       "    }\n",
       "</style>\n",
       "<table border=\"1\" class=\"dataframe\">\n",
       "  <thead>\n",
       "    <tr style=\"text-align: right;\">\n",
       "      <th></th>\n",
       "      <th>name</th>\n",
       "      <th>year</th>\n",
       "      <th>selling_price</th>\n",
       "      <th>km_driven</th>\n",
       "      <th>fuel</th>\n",
       "      <th>seller_type</th>\n",
       "      <th>transmission</th>\n",
       "      <th>owner</th>\n",
       "      <th>mileage</th>\n",
       "      <th>engine</th>\n",
       "      <th>max_power</th>\n",
       "      <th>torque</th>\n",
       "      <th>seats</th>\n",
       "    </tr>\n",
       "  </thead>\n",
       "  <tbody>\n",
       "    <tr>\n",
       "      <th>0</th>\n",
       "      <td>Maruti Swift Dzire VDI</td>\n",
       "      <td>2014</td>\n",
       "      <td>450000</td>\n",
       "      <td>145500</td>\n",
       "      <td>Diesel</td>\n",
       "      <td>Individual</td>\n",
       "      <td>Manual</td>\n",
       "      <td>First Owner</td>\n",
       "      <td>23.4 kmpl</td>\n",
       "      <td>1248 CC</td>\n",
       "      <td>74 bhp</td>\n",
       "      <td>190Nm@ 2000rpm</td>\n",
       "      <td>5.0</td>\n",
       "    </tr>\n",
       "    <tr>\n",
       "      <th>1</th>\n",
       "      <td>Skoda Rapid 1.5 TDI Ambition</td>\n",
       "      <td>2014</td>\n",
       "      <td>370000</td>\n",
       "      <td>120000</td>\n",
       "      <td>Diesel</td>\n",
       "      <td>Individual</td>\n",
       "      <td>Manual</td>\n",
       "      <td>Second Owner</td>\n",
       "      <td>21.14 kmpl</td>\n",
       "      <td>1498 CC</td>\n",
       "      <td>103.52 bhp</td>\n",
       "      <td>250Nm@ 1500-2500rpm</td>\n",
       "      <td>5.0</td>\n",
       "    </tr>\n",
       "    <tr>\n",
       "      <th>2</th>\n",
       "      <td>Honda City 2017-2020 EXi</td>\n",
       "      <td>2006</td>\n",
       "      <td>158000</td>\n",
       "      <td>140000</td>\n",
       "      <td>Petrol</td>\n",
       "      <td>Individual</td>\n",
       "      <td>Manual</td>\n",
       "      <td>Third Owner</td>\n",
       "      <td>17.7 kmpl</td>\n",
       "      <td>1497 CC</td>\n",
       "      <td>78 bhp</td>\n",
       "      <td>12.7@ 2,700(kgm@ rpm)</td>\n",
       "      <td>5.0</td>\n",
       "    </tr>\n",
       "    <tr>\n",
       "      <th>3</th>\n",
       "      <td>Hyundai i20 Sportz Diesel</td>\n",
       "      <td>2010</td>\n",
       "      <td>225000</td>\n",
       "      <td>127000</td>\n",
       "      <td>Diesel</td>\n",
       "      <td>Individual</td>\n",
       "      <td>Manual</td>\n",
       "      <td>First Owner</td>\n",
       "      <td>23.0 kmpl</td>\n",
       "      <td>1396 CC</td>\n",
       "      <td>90 bhp</td>\n",
       "      <td>22.4 kgm at 1750-2750rpm</td>\n",
       "      <td>5.0</td>\n",
       "    </tr>\n",
       "    <tr>\n",
       "      <th>4</th>\n",
       "      <td>Maruti Swift VXI BSIII</td>\n",
       "      <td>2007</td>\n",
       "      <td>130000</td>\n",
       "      <td>120000</td>\n",
       "      <td>Petrol</td>\n",
       "      <td>Individual</td>\n",
       "      <td>Manual</td>\n",
       "      <td>First Owner</td>\n",
       "      <td>16.1 kmpl</td>\n",
       "      <td>1298 CC</td>\n",
       "      <td>88.2 bhp</td>\n",
       "      <td>11.5@ 4,500(kgm@ rpm)</td>\n",
       "      <td>5.0</td>\n",
       "    </tr>\n",
       "  </tbody>\n",
       "</table>\n",
       "</div>"
      ],
      "text/plain": [
       "                           name  year  selling_price  km_driven    fuel  \\\n",
       "0        Maruti Swift Dzire VDI  2014         450000     145500  Diesel   \n",
       "1  Skoda Rapid 1.5 TDI Ambition  2014         370000     120000  Diesel   \n",
       "2      Honda City 2017-2020 EXi  2006         158000     140000  Petrol   \n",
       "3     Hyundai i20 Sportz Diesel  2010         225000     127000  Diesel   \n",
       "4        Maruti Swift VXI BSIII  2007         130000     120000  Petrol   \n",
       "\n",
       "  seller_type transmission         owner     mileage   engine   max_power  \\\n",
       "0  Individual       Manual   First Owner   23.4 kmpl  1248 CC      74 bhp   \n",
       "1  Individual       Manual  Second Owner  21.14 kmpl  1498 CC  103.52 bhp   \n",
       "2  Individual       Manual   Third Owner   17.7 kmpl  1497 CC      78 bhp   \n",
       "3  Individual       Manual   First Owner   23.0 kmpl  1396 CC      90 bhp   \n",
       "4  Individual       Manual   First Owner   16.1 kmpl  1298 CC    88.2 bhp   \n",
       "\n",
       "                     torque  seats  \n",
       "0            190Nm@ 2000rpm    5.0  \n",
       "1       250Nm@ 1500-2500rpm    5.0  \n",
       "2     12.7@ 2,700(kgm@ rpm)    5.0  \n",
       "3  22.4 kgm at 1750-2750rpm    5.0  \n",
       "4     11.5@ 4,500(kgm@ rpm)    5.0  "
      ]
     },
     "execution_count": 39,
     "metadata": {},
     "output_type": "execute_result"
    }
   ],
   "source": [
    "df.head()"
   ]
  },
  {
   "cell_type": "code",
   "execution_count": 43,
   "id": "d0bcfaaf",
   "metadata": {},
   "outputs": [],
   "source": [
    "#From matrix only 3 columns are used: year = X1;\tkm_driven X2;\tselling_price = Y\n",
    "dataset = df.values\n",
    "X1 = dataset [:,1:4]\n",
    "Y = dataset [:,2]\n",
    "\n",
    "gd = np.array(X1)\n",
    "gd_del = np.delete(gd, 1, 1) #erase column\n",
    "\n",
    "x_n = np.asarray(gd_del).astype('float32')\n",
    "y_n = np.asarray(Y).astype('float32')"
   ]
  },
  {
   "cell_type": "code",
   "execution_count": 80,
   "id": "d81e3071",
   "metadata": {},
   "outputs": [
    {
     "ename": "ModuleNotFoundError",
     "evalue": "No module named 'tensorflow'",
     "output_type": "error",
     "traceback": [
      "\u001b[1;31m---------------------------------------------------------------------------\u001b[0m",
      "\u001b[1;31mModuleNotFoundError\u001b[0m                       Traceback (most recent call last)",
      "Input \u001b[1;32mIn [80]\u001b[0m, in \u001b[0;36m<cell line: 1>\u001b[1;34m()\u001b[0m\n\u001b[1;32m----> 1\u001b[0m \u001b[38;5;28;01mimport\u001b[39;00m \u001b[38;5;21;01mtensorflow\u001b[39;00m \u001b[38;5;28;01mas\u001b[39;00m \u001b[38;5;21;01mtf\u001b[39;00m\n\u001b[0;32m      2\u001b[0m \u001b[38;5;28;01mfrom\u001b[39;00m \u001b[38;5;21;01mtensorflow\u001b[39;00m \u001b[38;5;28;01mimport\u001b[39;00m keras\n\u001b[0;32m      3\u001b[0m \u001b[38;5;28;01mfrom\u001b[39;00m \u001b[38;5;21;01mtensorflow\u001b[39;00m\u001b[38;5;21;01m.\u001b[39;00m\u001b[38;5;21;01mkeras\u001b[39;00m \u001b[38;5;28;01mimport\u001b[39;00m layers\n",
      "\u001b[1;31mModuleNotFoundError\u001b[0m: No module named 'tensorflow'"
     ]
    }
   ],
   "source": [
    "import tensorflow as tf\n",
    "from tensorflow import keras\n",
    "from tensorflow.keras import layers"
   ]
  },
  {
   "cell_type": "code",
   "execution_count": 11,
   "id": "d320b8fb",
   "metadata": {
    "scrolled": true
   },
   "outputs": [],
   "source": [
    "def build_model():\n",
    "  model = keras.Sequential([\n",
    "    layers.Dense(64, activation='relu', input_shape=[2]),  #60\n",
    "    layers.Dense(64, activation='relu'), \n",
    "    layers.Dense(64, activation='relu'),\n",
    "    layers.Dense(64, activation='relu'),                 #60\n",
    "    layers.Dense(1)\n",
    "  ])\n",
    "\n",
    "  optimizer = tf.keras.optimizers.RMSprop(learning_rate=0.1)\n",
    "\n",
    "  model.compile(loss='mse',\n",
    "                optimizer='adam',\n",
    "                metrics=['mse','mae'])\n",
    "  return model"
   ]
  },
  {
   "cell_type": "code",
   "execution_count": 12,
   "id": "e8bc3f40",
   "metadata": {
    "collapsed": true
   },
   "outputs": [
    {
     "ename": "NameError",
     "evalue": "name 'keras' is not defined",
     "output_type": "error",
     "traceback": [
      "\u001b[1;31m---------------------------------------------------------------------------\u001b[0m",
      "\u001b[1;31mNameError\u001b[0m                                 Traceback (most recent call last)",
      "Input \u001b[1;32mIn [12]\u001b[0m, in \u001b[0;36m<cell line: 1>\u001b[1;34m()\u001b[0m\n\u001b[1;32m----> 1\u001b[0m model10 \u001b[38;5;241m=\u001b[39m \u001b[43mbuild_model\u001b[49m\u001b[43m(\u001b[49m\u001b[43m)\u001b[49m\n\u001b[0;32m      2\u001b[0m model10\u001b[38;5;241m.\u001b[39mfit(x_n,y_n,epochs\u001b[38;5;241m=\u001b[39m\u001b[38;5;241m10\u001b[39m,verbose\u001b[38;5;241m=\u001b[39m\u001b[38;5;241m1\u001b[39m)\n",
      "Input \u001b[1;32mIn [11]\u001b[0m, in \u001b[0;36mbuild_model\u001b[1;34m()\u001b[0m\n\u001b[0;32m      1\u001b[0m \u001b[38;5;28;01mdef\u001b[39;00m \u001b[38;5;21mbuild_model\u001b[39m():\n\u001b[1;32m----> 2\u001b[0m   model \u001b[38;5;241m=\u001b[39m \u001b[43mkeras\u001b[49m\u001b[38;5;241m.\u001b[39mSequential([\n\u001b[0;32m      3\u001b[0m     layers\u001b[38;5;241m.\u001b[39mDense(\u001b[38;5;241m64\u001b[39m, activation\u001b[38;5;241m=\u001b[39m\u001b[38;5;124m'\u001b[39m\u001b[38;5;124mrelu\u001b[39m\u001b[38;5;124m'\u001b[39m, input_shape\u001b[38;5;241m=\u001b[39m[\u001b[38;5;241m2\u001b[39m]),  \u001b[38;5;66;03m#60\u001b[39;00m\n\u001b[0;32m      4\u001b[0m     layers\u001b[38;5;241m.\u001b[39mDense(\u001b[38;5;241m64\u001b[39m, activation\u001b[38;5;241m=\u001b[39m\u001b[38;5;124m'\u001b[39m\u001b[38;5;124mrelu\u001b[39m\u001b[38;5;124m'\u001b[39m), \n\u001b[0;32m      5\u001b[0m     layers\u001b[38;5;241m.\u001b[39mDense(\u001b[38;5;241m64\u001b[39m, activation\u001b[38;5;241m=\u001b[39m\u001b[38;5;124m'\u001b[39m\u001b[38;5;124mrelu\u001b[39m\u001b[38;5;124m'\u001b[39m),\n\u001b[0;32m      6\u001b[0m     layers\u001b[38;5;241m.\u001b[39mDense(\u001b[38;5;241m64\u001b[39m, activation\u001b[38;5;241m=\u001b[39m\u001b[38;5;124m'\u001b[39m\u001b[38;5;124mrelu\u001b[39m\u001b[38;5;124m'\u001b[39m),                 \u001b[38;5;66;03m#60\u001b[39;00m\n\u001b[0;32m      7\u001b[0m     layers\u001b[38;5;241m.\u001b[39mDense(\u001b[38;5;241m1\u001b[39m)\n\u001b[0;32m      8\u001b[0m   ])\n\u001b[0;32m     10\u001b[0m   optimizer \u001b[38;5;241m=\u001b[39m tf\u001b[38;5;241m.\u001b[39mkeras\u001b[38;5;241m.\u001b[39moptimizers\u001b[38;5;241m.\u001b[39mRMSprop(learning_rate\u001b[38;5;241m=\u001b[39m\u001b[38;5;241m0.1\u001b[39m)\n\u001b[0;32m     12\u001b[0m   model\u001b[38;5;241m.\u001b[39mcompile(loss\u001b[38;5;241m=\u001b[39m\u001b[38;5;124m'\u001b[39m\u001b[38;5;124mmse\u001b[39m\u001b[38;5;124m'\u001b[39m,\n\u001b[0;32m     13\u001b[0m                 optimizer\u001b[38;5;241m=\u001b[39m\u001b[38;5;124m'\u001b[39m\u001b[38;5;124madam\u001b[39m\u001b[38;5;124m'\u001b[39m,\n\u001b[0;32m     14\u001b[0m                 metrics\u001b[38;5;241m=\u001b[39m[\u001b[38;5;124m'\u001b[39m\u001b[38;5;124mmse\u001b[39m\u001b[38;5;124m'\u001b[39m,\u001b[38;5;124m'\u001b[39m\u001b[38;5;124mmae\u001b[39m\u001b[38;5;124m'\u001b[39m])\n",
      "\u001b[1;31mNameError\u001b[0m: name 'keras' is not defined"
     ]
    }
   ],
   "source": [
    "# Run of model for 10 Epochs\n",
    "model10 = build_model()\n",
    "model10.fit(x_n,y_n,epochs=10,verbose=1)"
   ]
  },
  {
   "cell_type": "code",
   "execution_count": null,
   "id": "8ae9adc5",
   "metadata": {},
   "outputs": [],
   "source": [
    "# Run of model for 100 Epochs\n",
    "model100 = build_model()\n",
    "model100.fit(x_n,y_n,epochs=100,verbose=1)"
   ]
  },
  {
   "cell_type": "code",
   "execution_count": null,
   "id": "33428fcf",
   "metadata": {},
   "outputs": [],
   "source": [
    "# Run of model for 1000 Epochs\n",
    "#NOTE: This line of code takes several minutes\n",
    "model1000 = build_model()\n",
    "model1000.fit(x_n,y_n,epochs=1000,verbose=1)"
   ]
  },
  {
   "cell_type": "code",
   "execution_count": null,
   "id": "2253701a",
   "metadata": {},
   "outputs": [],
   "source": [
    "test_10 = model10.predict(x_n).flatten()\n",
    "test_100 = model100.predict(x_n).flatten()\n",
    "test_1000 = model1000.predict(x_n).flatten()"
   ]
  },
  {
   "cell_type": "code",
   "execution_count": null,
   "id": "4fc30564",
   "metadata": {},
   "outputs": [],
   "source": [
    "from sklearn.metrics import r2_score\n",
    "\n",
    "rcu_10 = r2_score(y_n,test_10)\n",
    "rcu_100 = r2_score(y_n,test_100)\n",
    "rcu_1000 = r2_score(y_n,test_1000)\n",
    "\n",
    "print (rcu_10,   '--> Value obtained with 10 Epochs') \n",
    "print (rcu_100,  '--> Value obtained with 100 Epochs') \n",
    "print (rcu_1000,  '--> Value obtained with 1000 Epochs')"
   ]
  },
  {
   "cell_type": "code",
   "execution_count": null,
   "id": "4bf62550",
   "metadata": {},
   "outputs": [],
   "source": [
    "#ANSWER: The R^2 with linear regresion was of  0.1749. Therefore by using 10 epochs \n",
    "#        there is no improvement. By using 100 there is improvement and certainly\n",
    "#        by using 1000 there is also improvement, however, is not as big or good to be able\n",
    "#        to predict prices (or new values)."
   ]
  }
 ],
 "metadata": {
  "kernelspec": {
   "display_name": "Python 3 (ipykernel)",
   "language": "python",
   "name": "python3"
  },
  "language_info": {
   "codemirror_mode": {
    "name": "ipython",
    "version": 3
   },
   "file_extension": ".py",
   "mimetype": "text/x-python",
   "name": "python",
   "nbconvert_exporter": "python",
   "pygments_lexer": "ipython3",
   "version": "3.9.12"
  }
 },
 "nbformat": 4,
 "nbformat_minor": 5
}
